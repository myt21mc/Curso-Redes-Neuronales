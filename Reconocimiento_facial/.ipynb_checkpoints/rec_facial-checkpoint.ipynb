{
 "cells": [
  {
   "cell_type": "markdown",
   "id": "cf41b236-ec71-4fdc-bba0-9864e0d5ec0e",
   "metadata": {
    "tags": []
   },
   "source": [
    "## Tarea 6: Reconocimiento facial"
   ]
  },
  {
   "cell_type": "markdown",
   "id": "8822b5b4-2df3-4269-a40d-ac72e98e88c6",
   "metadata": {},
   "source": [
    "Mytzi Yael Munguía Cuatlayotl\n",
    "\n",
    "El reconocimiento facial, en general tiene 3 etapas:\n",
    "\n",
    "1. Detección de rostros: Detectar los rostros y sus posiciones en una imagen.\n",
    "2. Alineación de los rostros: Selección de los rostros y su transformación para homogeneizar el tamaño de las imágenes de rostros\n",
    "3. Extracción de características\n",
    "\n",
    "Para facilitar este ejercicio, nosotros sólo nos concentraremos en la tarea de extracción de características. Es decir, nuestra red sólo será alimentada con fotos de rostros.\n"
   ]
  },
  {
   "cell_type": "markdown",
   "id": "17612d69-a05d-4384-97ef-45ebcc3c3ae6",
   "metadata": {},
   "source": [
    "**Primero importamos los datos de CelebA desde el sitio web oficial**"
   ]
  },
  {
   "cell_type": "code",
   "execution_count": 14,
   "id": "abbbec4b-5866-4472-bf52-fd14609e1c80",
   "metadata": {
    "tags": []
   },
   "outputs": [
    {
     "data": {
      "text/plain": [
       "('celeba.zip', <http.client.HTTPMessage at 0x188b9d83f70>)"
      ]
     },
     "execution_count": 14,
     "metadata": {},
     "output_type": "execute_result"
    }
   ],
   "source": [
    "import urllib.request\n",
    "import os\n",
    "\n",
    "celeba_url = \"https://www.dropbox.com/s/l4g1ydigqobfprf/CelebA_Align.zip?dl=1\"\n",
    "download_path = \"celeba.zip\"\n",
    "\n",
    "urllib.request.urlretrieve(celeba_url, download_path)\n"
   ]
  },
  {
   "cell_type": "markdown",
   "id": "7d99fe69-cc28-484c-9b2d-19bc1cd3e13a",
   "metadata": {},
   "source": [
    "**Descomprimimos los datos, ya que el arcvhivo que se descarga es .zip**"
   ]
  },
  {
   "cell_type": "code",
   "execution_count": 12,
   "id": "544e197a-9860-4fa1-bf9c-82d547fd206e",
   "metadata": {
    "tags": []
   },
   "outputs": [
    {
     "name": "stdout",
     "output_type": "stream",
     "text": [
      "Ruta del archivo ZIP: celeba.zip\n"
     ]
    }
   ],
   "source": [
    "import zipfile\n",
    "print(f\"Ruta del archivo ZIP: {download_path}\")"
   ]
  },
  {
   "cell_type": "code",
   "execution_count": 16,
   "id": "7cb72884-3534-4988-a89b-49849fbf4836",
   "metadata": {
    "tags": []
   },
   "outputs": [
    {
     "ename": "BadZipFile",
     "evalue": "File is not a zip file",
     "output_type": "error",
     "traceback": [
      "\u001b[1;31m---------------------------------------------------------------------------\u001b[0m",
      "\u001b[1;31mBadZipFile\u001b[0m                                Traceback (most recent call last)",
      "Cell \u001b[1;32mIn[16], line 1\u001b[0m\n\u001b[1;32m----> 1\u001b[0m \u001b[38;5;28;01mwith\u001b[39;00m \u001b[43mzipfile\u001b[49m\u001b[38;5;241;43m.\u001b[39;49m\u001b[43mZipFile\u001b[49m\u001b[43m(\u001b[49m\u001b[43mdownload_path\u001b[49m\u001b[43m,\u001b[49m\u001b[43m \u001b[49m\u001b[38;5;124;43m'\u001b[39;49m\u001b[38;5;124;43mr\u001b[39;49m\u001b[38;5;124;43m'\u001b[39;49m\u001b[43m)\u001b[49m \u001b[38;5;28;01mas\u001b[39;00m zip_ref:\n\u001b[0;32m      2\u001b[0m     zip_ref\u001b[38;5;241m.\u001b[39mextractall(\u001b[38;5;124m\"\u001b[39m\u001b[38;5;124mceleba_dataset\u001b[39m\u001b[38;5;124m\"\u001b[39m)\n",
      "File \u001b[1;32m~\\anaconda3\\lib\\zipfile.py:1266\u001b[0m, in \u001b[0;36mZipFile.__init__\u001b[1;34m(self, file, mode, compression, allowZip64, compresslevel, strict_timestamps)\u001b[0m\n\u001b[0;32m   1264\u001b[0m \u001b[38;5;28;01mtry\u001b[39;00m:\n\u001b[0;32m   1265\u001b[0m     \u001b[38;5;28;01mif\u001b[39;00m mode \u001b[38;5;241m==\u001b[39m \u001b[38;5;124m'\u001b[39m\u001b[38;5;124mr\u001b[39m\u001b[38;5;124m'\u001b[39m:\n\u001b[1;32m-> 1266\u001b[0m         \u001b[38;5;28;43mself\u001b[39;49m\u001b[38;5;241;43m.\u001b[39;49m\u001b[43m_RealGetContents\u001b[49m\u001b[43m(\u001b[49m\u001b[43m)\u001b[49m\n\u001b[0;32m   1267\u001b[0m     \u001b[38;5;28;01melif\u001b[39;00m mode \u001b[38;5;129;01min\u001b[39;00m (\u001b[38;5;124m'\u001b[39m\u001b[38;5;124mw\u001b[39m\u001b[38;5;124m'\u001b[39m, \u001b[38;5;124m'\u001b[39m\u001b[38;5;124mx\u001b[39m\u001b[38;5;124m'\u001b[39m):\n\u001b[0;32m   1268\u001b[0m         \u001b[38;5;66;03m# set the modified flag so central directory gets written\u001b[39;00m\n\u001b[0;32m   1269\u001b[0m         \u001b[38;5;66;03m# even if no files are added to the archive\u001b[39;00m\n\u001b[0;32m   1270\u001b[0m         \u001b[38;5;28mself\u001b[39m\u001b[38;5;241m.\u001b[39m_didModify \u001b[38;5;241m=\u001b[39m \u001b[38;5;28;01mTrue\u001b[39;00m\n",
      "File \u001b[1;32m~\\anaconda3\\lib\\zipfile.py:1333\u001b[0m, in \u001b[0;36mZipFile._RealGetContents\u001b[1;34m(self)\u001b[0m\n\u001b[0;32m   1331\u001b[0m     \u001b[38;5;28;01mraise\u001b[39;00m BadZipFile(\u001b[38;5;124m\"\u001b[39m\u001b[38;5;124mFile is not a zip file\u001b[39m\u001b[38;5;124m\"\u001b[39m)\n\u001b[0;32m   1332\u001b[0m \u001b[38;5;28;01mif\u001b[39;00m \u001b[38;5;129;01mnot\u001b[39;00m endrec:\n\u001b[1;32m-> 1333\u001b[0m     \u001b[38;5;28;01mraise\u001b[39;00m BadZipFile(\u001b[38;5;124m\"\u001b[39m\u001b[38;5;124mFile is not a zip file\u001b[39m\u001b[38;5;124m\"\u001b[39m)\n\u001b[0;32m   1334\u001b[0m \u001b[38;5;28;01mif\u001b[39;00m \u001b[38;5;28mself\u001b[39m\u001b[38;5;241m.\u001b[39mdebug \u001b[38;5;241m>\u001b[39m \u001b[38;5;241m1\u001b[39m:\n\u001b[0;32m   1335\u001b[0m     \u001b[38;5;28mprint\u001b[39m(endrec)\n",
      "\u001b[1;31mBadZipFile\u001b[0m: File is not a zip file"
     ]
    }
   ],
   "source": [
    "with zipfile.ZipFile(download_path, 'r') as zip_ref:\n",
    "    zip_ref.extractall(\"celeba_dataset\")"
   ]
  },
  {
   "cell_type": "markdown",
   "id": "abf21a66-e614-4a04-91fa-7bf1970e2bf0",
   "metadata": {},
   "source": [
    "**No pude encontrar el problema con el método anterior, por lo cual opte por el método proporcionado**"
   ]
  },
  {
   "cell_type": "code",
   "execution_count": 1,
   "id": "c3c9bbe0-2b31-478c-9776-5829a3068380",
   "metadata": {
    "tags": []
   },
   "outputs": [],
   "source": [
    "#Importamos las librerias \n",
    "import tensorflow as tf\n",
    "import pathlib\n",
    "import os\n",
    "import matplotlib.pyplot as plt\n",
    "import pandas as pd\n",
    "import numpy as np"
   ]
  },
  {
   "cell_type": "code",
   "execution_count": 3,
   "id": "c6da7104-3855-4e1a-a18d-698198282b1c",
   "metadata": {
    "tags": []
   },
   "outputs": [
    {
     "name": "stdout",
     "output_type": "stream",
     "text": [
      "skipping : 202599\n",
      "\n",
      "skipping headers : 5_o_Clock_Shadow Arched_Eyebrows Attractive Bags_Under_Eyes Bald Bangs Big_Lips Big_Nose Black_Hair Blond_Hair Blurry Brown_Hair Bushy_Eyebrows Chubby Double_Chin Eyeglasses Goatee Gray_Hair Heavy_Makeup High_Cheekbones Male Mouth_Slightly_Open Mustache Narrow_Eyes No_Beard Oval_Face Pale_Skin Pointy_Nose Receding_Hairline Rosy_Cheeks Sideburns Smiling Straight_Hair Wavy_Hair Wearing_Earrings Wearing_Hat Wearing_Lipstick Wearing_Necklace Wearing_Necktie Young \n",
      "\n",
      "-----------\n",
      "0    000001.jpg\n",
      "1    000002.jpg\n",
      "2    000003.jpg\n",
      "3    000004.jpg\n",
      "4    000005.jpg\n",
      "Name: 0, dtype: object\n",
      "   1   2   3   4   5   6   7   8   9   10  ...  31  32  33  34  35  36  37  \\\n",
      "0  -1   1   1  -1  -1  -1  -1  -1  -1  -1  ...  -1   1   1  -1   1  -1   1   \n",
      "1  -1  -1  -1   1  -1  -1  -1   1  -1  -1  ...  -1   1  -1  -1  -1  -1  -1   \n",
      "2  -1  -1  -1  -1  -1  -1   1  -1  -1  -1  ...  -1  -1  -1   1  -1  -1  -1   \n",
      "3  -1  -1   1  -1  -1  -1  -1  -1  -1  -1  ...  -1  -1   1  -1   1  -1   1   \n",
      "4  -1   1   1  -1  -1  -1   1  -1  -1  -1  ...  -1  -1  -1  -1  -1  -1   1   \n",
      "\n",
      "   38  39  40  \n",
      "0  -1  -1   1  \n",
      "1  -1  -1   1  \n",
      "2  -1  -1   1  \n",
      "3   1  -1   1  \n",
      "4  -1  -1   1  \n",
      "\n",
      "[5 rows x 40 columns]\n",
      "----------\n"
     ]
    }
   ],
   "source": [
    "np.set_printoptions(precision=4)\n",
    "# Eliminar el dobel espacio entre algunos datos de la tabla\n",
    "with open(\"C:/Users/mytzi/Downloads/list_attr_celeba.txt\", 'r') as f:\n",
    "    print(\"skipping : \" + f.readline())\n",
    "    print(\"skipping headers : \" + f.readline())\n",
    "    with open('attr_celeba_prepared.txt' , 'w') as newf:\n",
    "        for line in f:\n",
    "            new_line = ' '.join(line.split())\n",
    "            newf.write(new_line)\n",
    "            newf.write('\\n')\n",
    "df = pd.read_csv('attr_celeba_prepared.txt', sep=' ', header = None)\n",
    "print(\"-----------\")\n",
    "print(df[0].head())\n",
    "print(df.iloc[:,1:].head())\n",
    "print(\"----------\")"
   ]
  },
  {
   "cell_type": "code",
   "execution_count": 9,
   "id": "e91765fc-5c41-457b-8f24-0bd71112743e",
   "metadata": {
    "tags": []
   },
   "outputs": [
    {
     "name": "stdout",
     "output_type": "stream",
     "text": [
      "<_ZipDataset element_spec=(TensorSpec(shape=(), dtype=tf.string, name=None), TensorSpec(shape=(40,), dtype=tf.int64, name=None))>\n",
      "<_MapDataset element_spec=(TensorSpec(shape=(192, 192, 3), dtype=tf.float32, name=None), TensorSpec(shape=(40,), dtype=tf.int64, name=None))>\n"
     ]
    },
    {
     "ename": "NotFoundError",
     "evalue": "{{function_node __wrapped__IteratorGetNext_output_types_2_device_/job:localhost/replica:0/task:0/device:CPU:0}} NewRandomAccessFile failed to Create/Open: C:/Users/mytzi/Downloads/img_align_celeba/img_align_celeba000001.jpg : El sistema no puede encontrar el archivo especificado.\r\n; No such file or directory\n\t [[{{node ReadFile}}]] [Op:IteratorGetNext] name: ",
     "output_type": "error",
     "traceback": [
      "\u001b[1;31m---------------------------------------------------------------------------\u001b[0m",
      "\u001b[1;31mNotFoundError\u001b[0m                             Traceback (most recent call last)",
      "Cell \u001b[1;32mIn[9], line 15\u001b[0m\n\u001b[0;32m     13\u001b[0m labeled_images \u001b[38;5;241m=\u001b[39m data\u001b[38;5;241m.\u001b[39mmap(process_file)\n\u001b[0;32m     14\u001b[0m \u001b[38;5;28mprint\u001b[39m(labeled_images)\n\u001b[1;32m---> 15\u001b[0m \u001b[38;5;28;01mfor\u001b[39;00m image, attri \u001b[38;5;129;01min\u001b[39;00m labeled_images\u001b[38;5;241m.\u001b[39mtake(\u001b[38;5;241m2\u001b[39m):\n\u001b[0;32m     16\u001b[0m     plt\u001b[38;5;241m.\u001b[39mimshow(image)\n\u001b[0;32m     17\u001b[0m     plt\u001b[38;5;241m.\u001b[39mshow()\n",
      "File \u001b[1;32m~\\anaconda3\\lib\\site-packages\\tensorflow\\python\\data\\ops\\iterator_ops.py:809\u001b[0m, in \u001b[0;36mOwnedIterator.__next__\u001b[1;34m(self)\u001b[0m\n\u001b[0;32m    807\u001b[0m \u001b[38;5;28;01mdef\u001b[39;00m \u001b[38;5;21m__next__\u001b[39m(\u001b[38;5;28mself\u001b[39m):\n\u001b[0;32m    808\u001b[0m   \u001b[38;5;28;01mtry\u001b[39;00m:\n\u001b[1;32m--> 809\u001b[0m     \u001b[38;5;28;01mreturn\u001b[39;00m \u001b[38;5;28;43mself\u001b[39;49m\u001b[38;5;241;43m.\u001b[39;49m\u001b[43m_next_internal\u001b[49m\u001b[43m(\u001b[49m\u001b[43m)\u001b[49m\n\u001b[0;32m    810\u001b[0m   \u001b[38;5;28;01mexcept\u001b[39;00m errors\u001b[38;5;241m.\u001b[39mOutOfRangeError:\n\u001b[0;32m    811\u001b[0m     \u001b[38;5;28;01mraise\u001b[39;00m \u001b[38;5;167;01mStopIteration\u001b[39;00m\n",
      "File \u001b[1;32m~\\anaconda3\\lib\\site-packages\\tensorflow\\python\\data\\ops\\iterator_ops.py:772\u001b[0m, in \u001b[0;36mOwnedIterator._next_internal\u001b[1;34m(self)\u001b[0m\n\u001b[0;32m    769\u001b[0m \u001b[38;5;66;03m# TODO(b/77291417): This runs in sync mode as iterators use an error status\u001b[39;00m\n\u001b[0;32m    770\u001b[0m \u001b[38;5;66;03m# to communicate that there is no more data to iterate over.\u001b[39;00m\n\u001b[0;32m    771\u001b[0m \u001b[38;5;28;01mwith\u001b[39;00m context\u001b[38;5;241m.\u001b[39mexecution_mode(context\u001b[38;5;241m.\u001b[39mSYNC):\n\u001b[1;32m--> 772\u001b[0m   ret \u001b[38;5;241m=\u001b[39m \u001b[43mgen_dataset_ops\u001b[49m\u001b[38;5;241;43m.\u001b[39;49m\u001b[43miterator_get_next\u001b[49m\u001b[43m(\u001b[49m\n\u001b[0;32m    773\u001b[0m \u001b[43m      \u001b[49m\u001b[38;5;28;43mself\u001b[39;49m\u001b[38;5;241;43m.\u001b[39;49m\u001b[43m_iterator_resource\u001b[49m\u001b[43m,\u001b[49m\n\u001b[0;32m    774\u001b[0m \u001b[43m      \u001b[49m\u001b[43moutput_types\u001b[49m\u001b[38;5;241;43m=\u001b[39;49m\u001b[38;5;28;43mself\u001b[39;49m\u001b[38;5;241;43m.\u001b[39;49m\u001b[43m_flat_output_types\u001b[49m\u001b[43m,\u001b[49m\n\u001b[0;32m    775\u001b[0m \u001b[43m      \u001b[49m\u001b[43moutput_shapes\u001b[49m\u001b[38;5;241;43m=\u001b[39;49m\u001b[38;5;28;43mself\u001b[39;49m\u001b[38;5;241;43m.\u001b[39;49m\u001b[43m_flat_output_shapes\u001b[49m\u001b[43m)\u001b[49m\n\u001b[0;32m    777\u001b[0m   \u001b[38;5;28;01mtry\u001b[39;00m:\n\u001b[0;32m    778\u001b[0m     \u001b[38;5;66;03m# Fast path for the case `self._structure` is not a nested structure.\u001b[39;00m\n\u001b[0;32m    779\u001b[0m     \u001b[38;5;28;01mreturn\u001b[39;00m \u001b[38;5;28mself\u001b[39m\u001b[38;5;241m.\u001b[39m_element_spec\u001b[38;5;241m.\u001b[39m_from_compatible_tensor_list(ret)  \u001b[38;5;66;03m# pylint: disable=protected-access\u001b[39;00m\n",
      "File \u001b[1;32m~\\anaconda3\\lib\\site-packages\\tensorflow\\python\\ops\\gen_dataset_ops.py:3055\u001b[0m, in \u001b[0;36miterator_get_next\u001b[1;34m(iterator, output_types, output_shapes, name)\u001b[0m\n\u001b[0;32m   3053\u001b[0m   \u001b[38;5;28;01mreturn\u001b[39;00m _result\n\u001b[0;32m   3054\u001b[0m \u001b[38;5;28;01mexcept\u001b[39;00m _core\u001b[38;5;241m.\u001b[39m_NotOkStatusException \u001b[38;5;28;01mas\u001b[39;00m e:\n\u001b[1;32m-> 3055\u001b[0m   \u001b[43m_ops\u001b[49m\u001b[38;5;241;43m.\u001b[39;49m\u001b[43mraise_from_not_ok_status\u001b[49m\u001b[43m(\u001b[49m\u001b[43me\u001b[49m\u001b[43m,\u001b[49m\u001b[43m \u001b[49m\u001b[43mname\u001b[49m\u001b[43m)\u001b[49m\n\u001b[0;32m   3056\u001b[0m \u001b[38;5;28;01mexcept\u001b[39;00m _core\u001b[38;5;241m.\u001b[39m_FallbackException:\n\u001b[0;32m   3057\u001b[0m   \u001b[38;5;28;01mpass\u001b[39;00m\n",
      "File \u001b[1;32m~\\anaconda3\\lib\\site-packages\\tensorflow\\python\\framework\\ops.py:5888\u001b[0m, in \u001b[0;36mraise_from_not_ok_status\u001b[1;34m(e, name)\u001b[0m\n\u001b[0;32m   5886\u001b[0m \u001b[38;5;28;01mdef\u001b[39;00m \u001b[38;5;21mraise_from_not_ok_status\u001b[39m(e, name) \u001b[38;5;241m-\u001b[39m\u001b[38;5;241m>\u001b[39m NoReturn:\n\u001b[0;32m   5887\u001b[0m   e\u001b[38;5;241m.\u001b[39mmessage \u001b[38;5;241m+\u001b[39m\u001b[38;5;241m=\u001b[39m (\u001b[38;5;124m\"\u001b[39m\u001b[38;5;124m name: \u001b[39m\u001b[38;5;124m\"\u001b[39m \u001b[38;5;241m+\u001b[39m \u001b[38;5;28mstr\u001b[39m(name \u001b[38;5;28;01mif\u001b[39;00m name \u001b[38;5;129;01mis\u001b[39;00m \u001b[38;5;129;01mnot\u001b[39;00m \u001b[38;5;28;01mNone\u001b[39;00m \u001b[38;5;28;01melse\u001b[39;00m \u001b[38;5;124m\"\u001b[39m\u001b[38;5;124m\"\u001b[39m))\n\u001b[1;32m-> 5888\u001b[0m   \u001b[38;5;28;01mraise\u001b[39;00m core\u001b[38;5;241m.\u001b[39m_status_to_exception(e) \u001b[38;5;28;01mfrom\u001b[39;00m \u001b[38;5;28;01mNone\u001b[39;00m\n",
      "\u001b[1;31mNotFoundError\u001b[0m: {{function_node __wrapped__IteratorGetNext_output_types_2_device_/job:localhost/replica:0/task:0/device:CPU:0}} NewRandomAccessFile failed to Create/Open: C:/Users/mytzi/Downloads/img_align_celeba/img_align_celeba000001.jpg : El sistema no puede encontrar el archivo especificado.\r\n; No such file or directory\n\t [[{{node ReadFile}}]] [Op:IteratorGetNext] name: "
     ]
    }
   ],
   "source": [
    "files = tf.data.Dataset.from_tensor_slices(df[0])\n",
    "attributes = tf.data.Dataset.from_tensor_slices(df.iloc[:,1:].to_numpy())\n",
    "data = tf.data.Dataset.zip((files, attributes))\n",
    "print(data)\n",
    "\n",
    "path_to_images = \"C:/Users/mytzi/Downloads/img_align_celeba/img_align_celeba\"\n",
    "def process_file(file_name, attributes):\n",
    "    image = tf.io.read_file(path_to_images + file_name)\n",
    "    image = tf.image.decode_jpeg(image, channels=3)\n",
    "    image = tf.image.resize(image, [192, 192])\n",
    "    image /= 255.0  #\n",
    "    return image, attributes\n",
    "labeled_images = data.map(process_file)\n",
    "print(labeled_images)\n",
    "for image, attri in labeled_images.take(2):\n",
    "    plt.imshow(image)\n",
    "    plt.show()"
   ]
  },
  {
   "cell_type": "code",
   "execution_count": null,
   "id": "9b11bd1a-4f3f-4efb-9f63-7f81b89e1031",
   "metadata": {},
   "outputs": [],
   "source": []
  }
 ],
 "metadata": {
  "kernelspec": {
   "display_name": "Python 3 (ipykernel)",
   "language": "python",
   "name": "python3"
  },
  "language_info": {
   "codemirror_mode": {
    "name": "ipython",
    "version": 3
   },
   "file_extension": ".py",
   "mimetype": "text/x-python",
   "name": "python",
   "nbconvert_exporter": "python",
   "pygments_lexer": "ipython3",
   "version": "3.9.16"
  }
 },
 "nbformat": 4,
 "nbformat_minor": 5
}

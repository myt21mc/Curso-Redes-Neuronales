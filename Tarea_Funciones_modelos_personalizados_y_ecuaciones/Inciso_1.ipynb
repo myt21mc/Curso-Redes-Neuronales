{
 "cells": [
  {
   "cell_type": "markdown",
   "id": "c0f64972-8f34-4afb-9984-1e99ab763f83",
   "metadata": {},
   "source": [
    "1.  Diseñar una capa en keras que transforme imagenes a color en escala de grises.  Pueden usar la base de datos mnist o cualquier otra para hacer laspruebas. (Notar que aquı solo se pide la capa, no hay nada que entrenar ya que no hay nada que ajustar, solo disenar la capa)."
   ]
  },
  {
   "cell_type": "raw",
   "id": "ee8a4348-bcb2-463e-916f-b6610508cdd5",
   "metadata": {},
   "source": [
    "Importamos las librerias "
   ]
  },
  {
   "cell_type": "code",
   "execution_count": 15,
   "id": "e0334759-6b13-4e14-8665-cbe45208edcb",
   "metadata": {
    "tags": []
   },
   "outputs": [],
   "source": [
    "import tensorflow as tf\n",
    "from tensorflow.keras.layers import Layer\n",
    "from tensorflow.keras.datasets import mnist"
   ]
  },
  {
   "cell_type": "raw",
   "id": "9ade4b0c-183d-4933-8522-eef8771b12b4",
   "metadata": {},
   "source": [
    "Definimos la capa personalizada GrayscaleLayer"
   ]
  },
  {
   "cell_type": "code",
   "execution_count": 16,
   "id": "6f808d48-5a6b-4901-894c-0343f4796d97",
   "metadata": {
    "tags": []
   },
   "outputs": [],
   "source": [
    "class GrayscaleLayer(Layer):\n",
    "    def __init__(self, **kwargs):\n",
    "        super(GrayscaleLayer, self).__init__(**kwargs)\n",
    "\n",
    "    def call(self, inputs):\n",
    "        grayscale_image = tf.image.rgb_to_grayscale(inputs) # Convierte la imagen a escala de grises utilizando una transformación ponderada\n",
    "        return grayscale_image"
   ]
  },
  {
   "cell_type": "raw",
   "id": "0a1922c0-8d1b-4514-a1d0-c9b5c048f186",
   "metadata": {},
   "source": [
    "Cargamos los datos MNIST"
   ]
  },
  {
   "cell_type": "code",
   "execution_count": 17,
   "id": "1b8a7774-cf53-4522-915b-a1748d30ec76",
   "metadata": {
    "tags": []
   },
   "outputs": [],
   "source": [
    "(x_train, y_train), (x_test, y_test) = mnist.load_data()"
   ]
  },
  {
   "cell_type": "raw",
   "id": "8d76ab73-7d05-4c25-862e-9580d9b0faaf",
   "metadata": {},
   "source": [
    "Normalizamos cada entrada"
   ]
  },
  {
   "cell_type": "code",
   "execution_count": 20,
   "id": "6ad2715d-d94b-4791-ab7f-ded15d006c73",
   "metadata": {
    "tags": []
   },
   "outputs": [],
   "source": [
    "x_train, x_test = x_train / 255.0, x_test / 255.0"
   ]
  },
  {
   "cell_type": "raw",
   "id": "03b391fd-9548-4c52-8e44-39c88e6776b5",
   "metadata": {},
   "source": [
    "Ya no pude comprobar si la imagen realmente esta convertida a una escala de grises, intete visualizar las imagenes \n",
    "pero tengo problemas en cuanto al tipo de datos, despues a las dimensiones que estaba dando, y por ultimo \n",
    "ya no supe que era lo que tenia mal, trate de correr parte de un codigo de la clase pero me marco error \n",
    "y ya no encontre como lo habia modificado para que me corriera adecuadamente. \n",
    "\n",
    "No lo pongo porque no llegue a algo concreto :c "
   ]
  },
  {
   "cell_type": "code",
   "execution_count": null,
   "id": "ee872e92-f7c8-4e46-bd27-8eefd7c69593",
   "metadata": {},
   "outputs": [],
   "source": []
  }
 ],
 "metadata": {
  "kernelspec": {
   "display_name": "Python 3 (ipykernel)",
   "language": "python",
   "name": "python3"
  },
  "language_info": {
   "codemirror_mode": {
    "name": "ipython",
    "version": 3
   },
   "file_extension": ".py",
   "mimetype": "text/x-python",
   "name": "python",
   "nbconvert_exporter": "python",
   "pygments_lexer": "ipython3",
   "version": "3.9.16"
  }
 },
 "nbformat": 4,
 "nbformat_minor": 5
}

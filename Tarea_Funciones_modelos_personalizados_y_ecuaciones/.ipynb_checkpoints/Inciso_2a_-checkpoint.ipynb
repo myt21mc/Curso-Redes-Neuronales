{
 "cells": [
  {
   "cell_type": "markdown",
   "id": "893fe7e0-fd78-43d5-93ae-ce7987bf836a",
   "metadata": {},
   "source": [
    "2.  Entrena una red neuronal para que reproduzca las siguientes funciones en el intervalo de  [-1,1]. Graficar la solucion de la red en conjunto con lagrafica de la funcion.\n",
    "(a) 3 sin(πx)"
   ]
  },
  {
   "cell_type": "raw",
   "id": "72e33b6c-e05c-4fc6-8145-1a976327a043",
   "metadata": {},
   "source": [
    "Importamos las librerias "
   ]
  },
  {
   "cell_type": "code",
   "execution_count": 9,
   "id": "a5f011c1-46d3-48ee-a519-2ef70f03ca7e",
   "metadata": {
    "tags": []
   },
   "outputs": [],
   "source": [
    "import tensorflow as tf \n",
    "from tensorflow import keras \n",
    "from tensorflow.keras.models import Sequential\n",
    "from tensorflow.keras.layers import Dense, Dropout,Activation\n",
    "from tensorflow.keras.optimizers import RMSprop, Adam \n",
    "\n",
    "from matplotlib import pyplot as plt \n",
    "import numpy as np \n",
    "import math"
   ]
  },
  {
   "cell_type": "code",
   "execution_count": 10,
   "id": "d74579e4-2c6f-4f24-8b41-6d8205e42ea0",
   "metadata": {
    "tags": []
   },
   "outputs": [],
   "source": [
    "class ODEsolver(Sequential): \n",
    "    def __init__(self, **kwargs): \n",
    "        super().__init__(**kwargs)\n",
    "        self.loss_tracker = keras.metrics.Mean(name=\"loss\") #funcion de costo\n",
    "    \n",
    "    @property \n",
    "    def metrics(self):\n",
    "        return [self.loss_tracker]\n",
    "    \n",
    "    def train_step(self, data): #define el paso de entrenamiento \n",
    "        batch_size = tf.shape(data)[0]\n",
    "        min = tf.cast(tf.reduce_min(data),tf.float32)\n",
    "        max = tf.cast(tf.reduce_max(data),tf.float32)\n",
    "        #numeros aleatorios en forma de vector \n",
    "        x = tf.random.uniform((batch_size, 1), minval =min, maxval =max)\n",
    "        \n",
    "        with tf.GradientTape() as tape: #calcula las derivadas \n",
    "            with tf.GradientTape() as tape2:\n",
    "                tape2.watch(x) \n",
    "                y_pred = self(x, training = True) #evalua la derivada de x\n",
    "            dy = tape2.gradient(y_pred, x)  #derivada del modelo con respecto a entradas x\n",
    "            x_o = tf.zeros((batch_size,1)) #valor de x en condicion inicial x_0=0\n",
    "            y_o = self(x_o,training=True) #valor del modelo en en x_0\n",
    "            x_1 = tf.ones((batch_size, 1))\n",
    "            y_1 = self(x_1, training = True)\n",
    "            eq = y_pred-3*tf.sin(math.pi*x)\n",
    "            #Condiciones iniciales\n",
    "            ic_0 = y_o -0. \n",
    "            loss = self.mse(0., eq) + self.mse(y_o,ic)\n",
    "        grads =tape.gradient(loss, self.trainable_variables)\n",
    "        self.optimizer.apply_gradients(zip(grads, self.trainable_variables))\n",
    "        self.loss_tracker.update_state(loss)\n",
    "        return  {\"loss\": self.loss_tracker.result()}"
   ]
  },
  {
   "cell_type": "code",
   "execution_count": 20,
   "id": "30418e33-b024-43f6-8e09-3c4b1bb41783",
   "metadata": {
    "tags": []
   },
   "outputs": [
    {
     "data": {
      "text/plain": [
       "<tf.Tensor: shape=(), dtype=int32, numpy=8>"
      ]
     },
     "execution_count": 20,
     "metadata": {},
     "output_type": "execute_result"
    }
   ],
   "source": [
    "mse = tf.keras.losses.MeanSquaredError()\n",
    "mse([[3],[5]], [[2],[1]])"
   ]
  },
  {
   "cell_type": "code",
   "execution_count": 21,
   "id": "43fac608-62c5-4f22-9696-3d3a5024526f",
   "metadata": {
    "tags": []
   },
   "outputs": [
    {
     "data": {
      "text/plain": [
       "<tf.Tensor: shape=(2,), dtype=int32, numpy=array([ 1, 16])>"
      ]
     },
     "execution_count": 21,
     "metadata": {},
     "output_type": "execute_result"
    }
   ],
   "source": [
    "keras.losses.mean_squared_error([[3],[5]], [[2],[1]])"
   ]
  },
  {
   "cell_type": "code",
   "execution_count": 22,
   "id": "4a9563f7-8d1f-4335-a831-1d66e8f92f02",
   "metadata": {
    "tags": []
   },
   "outputs": [
    {
     "name": "stdout",
     "output_type": "stream",
     "text": [
      "Model: \"od_esolver_2\"\n",
      "_________________________________________________________________\n",
      " Layer (type)                Output Shape              Param #   \n",
      "=================================================================\n",
      " dense_6 (Dense)             (None, 10)                20        \n",
      "                                                                 \n",
      " dense_7 (Dense)             (None, 1)                 11        \n",
      "                                                                 \n",
      " dense_8 (Dense)             (None, 1)                 2         \n",
      "                                                                 \n",
      "=================================================================\n",
      "Total params: 33 (132.00 Byte)\n",
      "Trainable params: 33 (132.00 Byte)\n",
      "Non-trainable params: 0 (0.00 Byte)\n",
      "_________________________________________________________________\n"
     ]
    }
   ],
   "source": [
    "model= ODEsolver()\n",
    "\n",
    "model.add(Dense(10, activation='tanh', input_shape=(1,)))\n",
    "model.add(Dense(1, activation='tanh'))\n",
    "model.add(Dense(1))\n",
    "model.summary()"
   ]
  },
  {
   "cell_type": "code",
   "execution_count": 23,
   "id": "b7d7fa47-d606-4ceb-9b15-ab1c634b7362",
   "metadata": {
    "tags": []
   },
   "outputs": [
    {
     "ename": "AttributeError",
     "evalue": "in user code:\n\n    File \"C:\\Users\\mytzi\\anaconda3\\lib\\site-packages\\keras\\src\\engine\\training.py\", line 1377, in train_function  *\n        return step_function(self, iterator)\n    File \"C:\\Users\\mytzi\\anaconda3\\lib\\site-packages\\keras\\src\\engine\\training.py\", line 1360, in step_function  **\n        outputs = model.distribute_strategy.run(run_step, args=(data,))\n    File \"C:\\Users\\mytzi\\anaconda3\\lib\\site-packages\\keras\\src\\engine\\training.py\", line 1349, in run_step  **\n        outputs = model.train_step(data)\n    File \"C:\\Users\\mytzi\\AppData\\Local\\Temp\\ipykernel_21540\\307003000.py\", line 29, in train_step\n        loss = self.mse(0., eq) + self.mse(y_o,ic)\n\n    AttributeError: 'ODEsolver' object has no attribute 'mse'\n",
     "output_type": "error",
     "traceback": [
      "\u001b[1;31m---------------------------------------------------------------------------\u001b[0m",
      "\u001b[1;31mAttributeError\u001b[0m                            Traceback (most recent call last)",
      "Cell \u001b[1;32mIn[23], line 4\u001b[0m\n\u001b[0;32m      1\u001b[0m model\u001b[38;5;241m.\u001b[39mcompile(optimizer\u001b[38;5;241m=\u001b[39mRMSprop(),metrics\u001b[38;5;241m=\u001b[39m[\u001b[38;5;124m'\u001b[39m\u001b[38;5;124mloss\u001b[39m\u001b[38;5;124m'\u001b[39m])\n\u001b[0;32m      3\u001b[0m x\u001b[38;5;241m=\u001b[39mtf\u001b[38;5;241m.\u001b[39mlinspace(\u001b[38;5;241m-\u001b[39m\u001b[38;5;241m1\u001b[39m,\u001b[38;5;241m1\u001b[39m,\u001b[38;5;241m100\u001b[39m)\n\u001b[1;32m----> 4\u001b[0m history \u001b[38;5;241m=\u001b[39m \u001b[43mmodel\u001b[49m\u001b[38;5;241;43m.\u001b[39;49m\u001b[43mfit\u001b[49m\u001b[43m(\u001b[49m\u001b[43mx\u001b[49m\u001b[43m,\u001b[49m\u001b[43mepochs\u001b[49m\u001b[38;5;241;43m=\u001b[39;49m\u001b[38;5;241;43m500\u001b[39;49m\u001b[43m,\u001b[49m\u001b[43mverbose\u001b[49m\u001b[38;5;241;43m=\u001b[39;49m\u001b[38;5;241;43m0\u001b[39;49m\u001b[43m)\u001b[49m\n\u001b[0;32m      6\u001b[0m plt\u001b[38;5;241m.\u001b[39mplot(history\u001b[38;5;241m.\u001b[39mhistory[\u001b[38;5;124m\"\u001b[39m\u001b[38;5;124mloss\u001b[39m\u001b[38;5;124m\"\u001b[39m])\n",
      "File \u001b[1;32m~\\anaconda3\\lib\\site-packages\\keras\\src\\utils\\traceback_utils.py:70\u001b[0m, in \u001b[0;36mfilter_traceback.<locals>.error_handler\u001b[1;34m(*args, **kwargs)\u001b[0m\n\u001b[0;32m     67\u001b[0m     filtered_tb \u001b[38;5;241m=\u001b[39m _process_traceback_frames(e\u001b[38;5;241m.\u001b[39m__traceback__)\n\u001b[0;32m     68\u001b[0m     \u001b[38;5;66;03m# To get the full stack trace, call:\u001b[39;00m\n\u001b[0;32m     69\u001b[0m     \u001b[38;5;66;03m# `tf.debugging.disable_traceback_filtering()`\u001b[39;00m\n\u001b[1;32m---> 70\u001b[0m     \u001b[38;5;28;01mraise\u001b[39;00m e\u001b[38;5;241m.\u001b[39mwith_traceback(filtered_tb) \u001b[38;5;28;01mfrom\u001b[39;00m \u001b[38;5;28;01mNone\u001b[39;00m\n\u001b[0;32m     71\u001b[0m \u001b[38;5;28;01mfinally\u001b[39;00m:\n\u001b[0;32m     72\u001b[0m     \u001b[38;5;28;01mdel\u001b[39;00m filtered_tb\n",
      "File \u001b[1;32m~\\AppData\\Local\\Temp\\__autograph_generated_file_m68ahnj.py:15\u001b[0m, in \u001b[0;36mouter_factory.<locals>.inner_factory.<locals>.tf__train_function\u001b[1;34m(iterator)\u001b[0m\n\u001b[0;32m     13\u001b[0m \u001b[38;5;28;01mtry\u001b[39;00m:\n\u001b[0;32m     14\u001b[0m     do_return \u001b[38;5;241m=\u001b[39m \u001b[38;5;28;01mTrue\u001b[39;00m\n\u001b[1;32m---> 15\u001b[0m     retval_ \u001b[38;5;241m=\u001b[39m ag__\u001b[38;5;241m.\u001b[39mconverted_call(ag__\u001b[38;5;241m.\u001b[39mld(step_function), (ag__\u001b[38;5;241m.\u001b[39mld(\u001b[38;5;28mself\u001b[39m), ag__\u001b[38;5;241m.\u001b[39mld(iterator)), \u001b[38;5;28;01mNone\u001b[39;00m, fscope)\n\u001b[0;32m     16\u001b[0m \u001b[38;5;28;01mexcept\u001b[39;00m:\n\u001b[0;32m     17\u001b[0m     do_return \u001b[38;5;241m=\u001b[39m \u001b[38;5;28;01mFalse\u001b[39;00m\n",
      "Cell \u001b[1;32mIn[10], line 29\u001b[0m, in \u001b[0;36mODEsolver.train_step\u001b[1;34m(self, data)\u001b[0m\n\u001b[0;32m     27\u001b[0m     \u001b[38;5;66;03m#Condiciones iniciales\u001b[39;00m\n\u001b[0;32m     28\u001b[0m     ic_0 \u001b[38;5;241m=\u001b[39m y_o \u001b[38;5;241m-\u001b[39m\u001b[38;5;241m0.\u001b[39m \n\u001b[1;32m---> 29\u001b[0m     loss \u001b[38;5;241m=\u001b[39m \u001b[38;5;28mself\u001b[39m\u001b[38;5;241m.\u001b[39mmse(\u001b[38;5;241m0.\u001b[39m, eq) \u001b[38;5;241m+\u001b[39m \u001b[38;5;28mself\u001b[39m\u001b[38;5;241m.\u001b[39mmse(y_o,ic)\n\u001b[0;32m     30\u001b[0m grads \u001b[38;5;241m=\u001b[39mtape\u001b[38;5;241m.\u001b[39mgradient(loss, \u001b[38;5;28mself\u001b[39m\u001b[38;5;241m.\u001b[39mtrainable_variables)\n\u001b[0;32m     31\u001b[0m \u001b[38;5;28mself\u001b[39m\u001b[38;5;241m.\u001b[39moptimizer\u001b[38;5;241m.\u001b[39mapply_gradients(\u001b[38;5;28mzip\u001b[39m(grads, \u001b[38;5;28mself\u001b[39m\u001b[38;5;241m.\u001b[39mtrainable_variables))\n",
      "\u001b[1;31mAttributeError\u001b[0m: in user code:\n\n    File \"C:\\Users\\mytzi\\anaconda3\\lib\\site-packages\\keras\\src\\engine\\training.py\", line 1377, in train_function  *\n        return step_function(self, iterator)\n    File \"C:\\Users\\mytzi\\anaconda3\\lib\\site-packages\\keras\\src\\engine\\training.py\", line 1360, in step_function  **\n        outputs = model.distribute_strategy.run(run_step, args=(data,))\n    File \"C:\\Users\\mytzi\\anaconda3\\lib\\site-packages\\keras\\src\\engine\\training.py\", line 1349, in run_step  **\n        outputs = model.train_step(data)\n    File \"C:\\Users\\mytzi\\AppData\\Local\\Temp\\ipykernel_21540\\307003000.py\", line 29, in train_step\n        loss = self.mse(0., eq) + self.mse(y_o,ic)\n\n    AttributeError: 'ODEsolver' object has no attribute 'mse'\n"
     ]
    }
   ],
   "source": [
    "model.compile(optimizer=RMSprop(),metrics=['loss'])\n",
    "\n",
    "x=tf.linspace(-1,1,100)\n",
    "history = model.fit(x,epochs=500,verbose=0)\n",
    "\n",
    "plt.plot(history.history[\"loss\"])"
   ]
  },
  {
   "cell_type": "code",
   "execution_count": null,
   "id": "0e92b343-b5c9-4ae0-bc61-3917c8121cdb",
   "metadata": {},
   "outputs": [],
   "source": []
  }
 ],
 "metadata": {
  "kernelspec": {
   "display_name": "Python 3 (ipykernel)",
   "language": "python",
   "name": "python3"
  },
  "language_info": {
   "codemirror_mode": {
    "name": "ipython",
    "version": 3
   },
   "file_extension": ".py",
   "mimetype": "text/x-python",
   "name": "python",
   "nbconvert_exporter": "python",
   "pygments_lexer": "ipython3",
   "version": "3.9.16"
  }
 },
 "nbformat": 4,
 "nbformat_minor": 5
}

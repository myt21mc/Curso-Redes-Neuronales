{
 "cells": [
  {
   "cell_type": "markdown",
   "id": "b28dd260-e9d8-49c1-b110-cd2a363deddd",
   "metadata": {},
   "source": [
    "4.  Entrenar una red neuronal que de la solucion de las siguientes ecuaciones diferenciales en el el intervalo [-5,5].  Graficar la solucion numerica junto con la solucion analitica.\n",
    "\n",
    "(a) xy′+y=x^2cosx con y(0) = 0"
   ]
  },
  {
   "cell_type": "raw",
   "id": "67d13c2a-8b2b-482c-9623-551c3fe98665",
   "metadata": {},
   "source": [
    "Importamos las librerias "
   ]
  },
  {
   "cell_type": "code",
   "execution_count": 7,
   "id": "f692aca3-4cb1-4c94-b09d-1ba637c2ff47",
   "metadata": {
    "tags": []
   },
   "outputs": [],
   "source": [
    "import tensorflow as tf \n",
    "from tensorflow import keras \n",
    "from tensorflow.keras.models import Sequential\n",
    "from tensorflow.keras.layers import Dense, Dropout,Activation\n",
    "from tensorflow.keras.optimizers import RMSprop, Adam \n",
    "\n",
    "from matplotlib import pyplot as plt \n",
    "import numpy as np \n",
    "import math\n",
    "import sympy as sp"
   ]
  },
  {
   "cell_type": "code",
   "execution_count": 26,
   "id": "bf8618cf-b669-4e50-b47e-58bb4ad19180",
   "metadata": {
    "tags": []
   },
   "outputs": [],
   "source": [
    "class ODEsolver(Sequential): \n",
    "    def __init__(self, **kwargs): \n",
    "        super().__init__(**kwargs)\n",
    "        self.loss_tracker = keras.metrics.Mean(name=\"loss\") #funcion de costo\n",
    "        self.mse = tf.keras.losses.MeanSquaredError()\n",
    "        \n",
    "    @property \n",
    "    def metrics(self):\n",
    "        return [self.loss_tracker]\n",
    "    \n",
    "    def train_step(self, data): #define el paso de entrenamiento\n",
    "        batch_size = tf.shape(data)[0]\n",
    "        min = tf.cast(tf.reduce_min(data),tf.float32)\n",
    "        max = tf.cast(tf.reduce_max(data),tf.float32)\n",
    "        x = tf.random.uniform((batch_size,1), minval=min, maxval=max)\n",
    "        \n",
    "        with tf.GradientTape() as tape: #calcula las derivadas \n",
    "            with tf.GradientTape() as tape2:\n",
    "                tape2.watch(x)\n",
    "                y_pred = self(x, training = True) #evalua la derivada de x\n",
    "            dy = tape2.gradient(y_pred, x) #derivada del modelo respecto a x \n",
    "            \n",
    "            x_o = tf.zeros((batch_size, 1))\n",
    "            y_o = self(x_o, training = True)\n",
    "            \n",
    "            eq = x* dy +y_pred - x*x*tf.cos(x) #Ecuación diferencial \n",
    "            ic = 0. #condición inicial \n",
    "            loss = keras.losses.mean_squared_error(0., eq) + keras.losses.mean_squared_error(y_o, ic) \n",
    "        # Calcular gradientes y aplicarlo\n",
    "        grads =tape.gradient(loss, self.trainable_variables)\n",
    "        self.optimizer.apply_gradients(zip(grads, self.trainable_variables))\n",
    "        self.loss_tracker.update_state(loss)\n",
    "        return  {\"loss\": self.loss_tracker.result()}"
   ]
  },
  {
   "cell_type": "code",
   "execution_count": 27,
   "id": "de561af7-6bb5-46b9-9ccc-3d442fc61312",
   "metadata": {
    "tags": []
   },
   "outputs": [
    {
     "data": {
      "text/plain": [
       "<tf.Tensor: shape=(), dtype=int32, numpy=8>"
      ]
     },
     "execution_count": 27,
     "metadata": {},
     "output_type": "execute_result"
    }
   ],
   "source": [
    "mse = tf.keras.losses.MeanSquaredError()\n",
    "mse([[3],[5]], [[2],[1]])"
   ]
  },
  {
   "cell_type": "code",
   "execution_count": 28,
   "id": "0ae8cdd6-da4c-4d9a-95d4-9d499ab5a1e8",
   "metadata": {
    "tags": []
   },
   "outputs": [
    {
     "data": {
      "text/plain": [
       "<tf.Tensor: shape=(2,), dtype=int32, numpy=array([ 1, 16])>"
      ]
     },
     "execution_count": 28,
     "metadata": {},
     "output_type": "execute_result"
    }
   ],
   "source": [
    "keras.losses.mean_squared_error([[3],[5]], [[2],[1]])"
   ]
  },
  {
   "cell_type": "code",
   "execution_count": 29,
   "id": "d136d313-98aa-4843-9696-0559c70cf555",
   "metadata": {
    "tags": []
   },
   "outputs": [
    {
     "name": "stdout",
     "output_type": "stream",
     "text": [
      "Model: \"od_esolver_5\"\n",
      "_________________________________________________________________\n",
      " Layer (type)                Output Shape              Param #   \n",
      "=================================================================\n",
      " dense_19 (Dense)            (None, 35)                70        \n",
      "                                                                 \n",
      " dense_20 (Dense)            (None, 10)                360       \n",
      "                                                                 \n",
      " dense_21 (Dense)            (None, 1)                 11        \n",
      "                                                                 \n",
      "=================================================================\n",
      "Total params: 441 (1.72 KB)\n",
      "Trainable params: 441 (1.72 KB)\n",
      "Non-trainable params: 0 (0.00 Byte)\n",
      "_________________________________________________________________\n"
     ]
    }
   ],
   "source": [
    "# Crear una instancia de la clase ODEsolver\n",
    "model = ODEsolver()\n",
    "\n",
    "# Definir las capas de la red neuronal\n",
    "model.add(Dense(35, activation='tanh', input_shape=(1,)))\n",
    "model.add(Dense(10, activation='tanh'))\n",
    "model.add(Dense(1, activation =\"linear\"))\n",
    "\n",
    "# Imprimir un resumen del modelo\n",
    "model.compile(optimizer='RMSprop', metrics=['loss']) \n",
    "model.summary()"
   ]
  },
  {
   "cell_type": "code",
   "execution_count": null,
   "id": "dbb62e5d-0b83-4501-8e83-ef7255d62aca",
   "metadata": {
    "tags": []
   },
   "outputs": [],
   "source": [
    "x = tf.linspace(-5.0, 5.0, 100)# Generar datos de entrada en el rango [-5, 5]\n",
    "history = model.fit(x, epochs=1000, verbose=0)# Entrenar el modelo durante 500 épocas "
   ]
  },
  {
   "cell_type": "code",
   "execution_count": null,
   "id": "4ceb18fb-81c1-482b-ae86-a082c16571a0",
   "metadata": {
    "tags": []
   },
   "outputs": [],
   "source": [
    "x_testv = tf.linspace(-5,5,100)# Generar datos de prueba en el rango [-5, 5] \n",
    "a=model.predict(x_testv)# Obtener las predicciones del modelo\n",
    "exact_solution =x*np.sin(x) -2.*(-x*np.cos(x) + np.sin(x))/ x # solución exacta (3 * sin(πx))\n",
    "\n",
    "# Graficar las predicciones y la solución exacta\n",
    "plt.figure(figsize = (10,10))\n",
    "plt.plot(x_testv, a, label=\"Aproximación\")\n",
    "plt.plot(x_testv, exact_solution, label=\" Exacta\")\n",
    "plt.legend()\n",
    "plt.xlabel('x')\n",
    "plt.ylabel('y')\n",
    "plt.title('Comparación de Aproximación y Solución Exacta ')\n",
    "plt.show()"
   ]
  },
  {
   "cell_type": "code",
   "execution_count": null,
   "id": "83379ecc-dff6-4d55-92b4-4bd3afedc0ff",
   "metadata": {},
   "outputs": [],
   "source": []
  }
 ],
 "metadata": {
  "kernelspec": {
   "display_name": "Python 3 (ipykernel)",
   "language": "python",
   "name": "python3"
  },
  "language_info": {
   "codemirror_mode": {
    "name": "ipython",
    "version": 3
   },
   "file_extension": ".py",
   "mimetype": "text/x-python",
   "name": "python",
   "nbconvert_exporter": "python",
   "pygments_lexer": "ipython3",
   "version": "3.9.16"
  }
 },
 "nbformat": 4,
 "nbformat_minor": 5
}

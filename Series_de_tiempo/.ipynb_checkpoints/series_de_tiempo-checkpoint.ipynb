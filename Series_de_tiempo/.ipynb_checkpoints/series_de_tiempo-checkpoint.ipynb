{
 "cells": [
  {
   "cell_type": "markdown",
   "id": "273c2a56-cc85-4980-b426-a01816f1f1fb",
   "metadata": {},
   "source": [
    "# Tarea 5: Series de tiempo "
   ]
  },
  {
   "cell_type": "markdown",
   "id": "da0d8ff3-d804-44e4-9a65-f1d58cf80e91",
   "metadata": {},
   "source": [
    "Mytzi Yael Munguía Cuatlayotl\n",
    "\n",
    "201931063"
   ]
  },
  {
   "cell_type": "markdown",
   "id": "967a1bee-df94-4e23-ae5a-4d160f19acbd",
   "metadata": {},
   "source": [
    "**1. Genera secuencias x para entrenamiento (50%), validación (25%) y prueba (25%) de 120 elementos de longitud a partir**\n",
    "**de los datos de temperatura.**"
   ]
  },
  {
   "cell_type": "raw",
   "id": "90b7e725-9d2f-420a-8a90-d72df4a5cb2a",
   "metadata": {},
   "source": [
    "#Aquí hay un ejemplo de una forma de lograrlo para generar un conjunto de secuencias:\n",
    "val_dataset = keras.utils.timeseries_dataset_from_array(\n",
    "    data=temperature[:-delay],\n",
    "    targets=temperature[delay:],\n",
    "    sampling_rate=sampling_rate,\n",
    "    sequence_length=sequence_length,\n",
    "    shuffle=True,\n",
    "    batch_size=batch_size,\n",
    "    start_index=num_train_samples,\n",
    "    end_index=num_train_samples + num_val_samples)\n",
    "\n",
    "El reto en el código de arriba es simplemente calcular los valores de start_index y end_idex para obtener el número de secuencias x desadas."
   ]
  },
  {
   "cell_type": "markdown",
   "id": "0ac8d9e6-2ac3-4a34-897e-807a2b7c4057",
   "metadata": {},
   "source": [
    "Importamos las librerias  (agregamos las librerias faltantes)"
   ]
  },
  {
   "cell_type": "code",
   "execution_count": 85,
   "id": "c609948c-d04e-4bd1-96b1-6133df4198ad",
   "metadata": {
    "tags": []
   },
   "outputs": [],
   "source": [
    "import tensorflow as tf\n",
    "import keras as keras\n",
    "import numpy as np\n",
    "import matplotlib.pyplot as plt\n",
    "import os\n",
    "import pandas as pd\n",
    "from tensorflow.keras.models import Sequential\n",
    "from tensorflow.keras import layers\n"
   ]
  },
  {
   "cell_type": "markdown",
   "id": "fe146496-23d9-4b43-9be7-6f266efee42d",
   "metadata": {},
   "source": [
    "Leemos el archivo CSV"
   ]
  },
  {
   "cell_type": "code",
   "execution_count": 9,
   "id": "00859634-d2a1-4ccc-8977-821e5a6e6455",
   "metadata": {
    "tags": []
   },
   "outputs": [
    {
     "data": {
      "text/html": [
       "<div>\n",
       "<style scoped>\n",
       "    .dataframe tbody tr th:only-of-type {\n",
       "        vertical-align: middle;\n",
       "    }\n",
       "\n",
       "    .dataframe tbody tr th {\n",
       "        vertical-align: top;\n",
       "    }\n",
       "\n",
       "    .dataframe thead th {\n",
       "        text-align: right;\n",
       "    }\n",
       "</style>\n",
       "<table border=\"1\" class=\"dataframe\">\n",
       "  <thead>\n",
       "    <tr style=\"text-align: right;\">\n",
       "      <th></th>\n",
       "      <th>Date Time</th>\n",
       "      <th>p (mbar)</th>\n",
       "      <th>T (degC)</th>\n",
       "      <th>Tpot (K)</th>\n",
       "      <th>Tdew (degC)</th>\n",
       "      <th>rh (%)</th>\n",
       "      <th>VPmax (mbar)</th>\n",
       "      <th>VPact (mbar)</th>\n",
       "      <th>VPdef (mbar)</th>\n",
       "      <th>sh (g/kg)</th>\n",
       "      <th>H2OC (mmol/mol)</th>\n",
       "      <th>rho (g/m**3)</th>\n",
       "      <th>wv (m/s)</th>\n",
       "      <th>max. wv (m/s)</th>\n",
       "      <th>wd (deg)</th>\n",
       "    </tr>\n",
       "  </thead>\n",
       "  <tbody>\n",
       "    <tr>\n",
       "      <th>0</th>\n",
       "      <td>01.01.2009 00:10:00</td>\n",
       "      <td>996.52</td>\n",
       "      <td>-8.02</td>\n",
       "      <td>265.40</td>\n",
       "      <td>-8.90</td>\n",
       "      <td>93.30</td>\n",
       "      <td>3.33</td>\n",
       "      <td>3.11</td>\n",
       "      <td>0.22</td>\n",
       "      <td>1.94</td>\n",
       "      <td>3.12</td>\n",
       "      <td>1307.75</td>\n",
       "      <td>1.03</td>\n",
       "      <td>1.75</td>\n",
       "      <td>152.3</td>\n",
       "    </tr>\n",
       "    <tr>\n",
       "      <th>1</th>\n",
       "      <td>01.01.2009 00:20:00</td>\n",
       "      <td>996.57</td>\n",
       "      <td>-8.41</td>\n",
       "      <td>265.01</td>\n",
       "      <td>-9.28</td>\n",
       "      <td>93.40</td>\n",
       "      <td>3.23</td>\n",
       "      <td>3.02</td>\n",
       "      <td>0.21</td>\n",
       "      <td>1.89</td>\n",
       "      <td>3.03</td>\n",
       "      <td>1309.80</td>\n",
       "      <td>0.72</td>\n",
       "      <td>1.50</td>\n",
       "      <td>136.1</td>\n",
       "    </tr>\n",
       "    <tr>\n",
       "      <th>2</th>\n",
       "      <td>01.01.2009 00:30:00</td>\n",
       "      <td>996.53</td>\n",
       "      <td>-8.51</td>\n",
       "      <td>264.91</td>\n",
       "      <td>-9.31</td>\n",
       "      <td>93.90</td>\n",
       "      <td>3.21</td>\n",
       "      <td>3.01</td>\n",
       "      <td>0.20</td>\n",
       "      <td>1.88</td>\n",
       "      <td>3.02</td>\n",
       "      <td>1310.24</td>\n",
       "      <td>0.19</td>\n",
       "      <td>0.63</td>\n",
       "      <td>171.6</td>\n",
       "    </tr>\n",
       "    <tr>\n",
       "      <th>3</th>\n",
       "      <td>01.01.2009 00:40:00</td>\n",
       "      <td>996.51</td>\n",
       "      <td>-8.31</td>\n",
       "      <td>265.12</td>\n",
       "      <td>-9.07</td>\n",
       "      <td>94.20</td>\n",
       "      <td>3.26</td>\n",
       "      <td>3.07</td>\n",
       "      <td>0.19</td>\n",
       "      <td>1.92</td>\n",
       "      <td>3.08</td>\n",
       "      <td>1309.19</td>\n",
       "      <td>0.34</td>\n",
       "      <td>0.50</td>\n",
       "      <td>198.0</td>\n",
       "    </tr>\n",
       "    <tr>\n",
       "      <th>4</th>\n",
       "      <td>01.01.2009 00:50:00</td>\n",
       "      <td>996.51</td>\n",
       "      <td>-8.27</td>\n",
       "      <td>265.15</td>\n",
       "      <td>-9.04</td>\n",
       "      <td>94.10</td>\n",
       "      <td>3.27</td>\n",
       "      <td>3.08</td>\n",
       "      <td>0.19</td>\n",
       "      <td>1.92</td>\n",
       "      <td>3.09</td>\n",
       "      <td>1309.00</td>\n",
       "      <td>0.32</td>\n",
       "      <td>0.63</td>\n",
       "      <td>214.3</td>\n",
       "    </tr>\n",
       "    <tr>\n",
       "      <th>...</th>\n",
       "      <td>...</td>\n",
       "      <td>...</td>\n",
       "      <td>...</td>\n",
       "      <td>...</td>\n",
       "      <td>...</td>\n",
       "      <td>...</td>\n",
       "      <td>...</td>\n",
       "      <td>...</td>\n",
       "      <td>...</td>\n",
       "      <td>...</td>\n",
       "      <td>...</td>\n",
       "      <td>...</td>\n",
       "      <td>...</td>\n",
       "      <td>...</td>\n",
       "      <td>...</td>\n",
       "    </tr>\n",
       "    <tr>\n",
       "      <th>420446</th>\n",
       "      <td>31.12.2016 23:20:00</td>\n",
       "      <td>1000.07</td>\n",
       "      <td>-4.05</td>\n",
       "      <td>269.10</td>\n",
       "      <td>-8.13</td>\n",
       "      <td>73.10</td>\n",
       "      <td>4.52</td>\n",
       "      <td>3.30</td>\n",
       "      <td>1.22</td>\n",
       "      <td>2.06</td>\n",
       "      <td>3.30</td>\n",
       "      <td>1292.98</td>\n",
       "      <td>0.67</td>\n",
       "      <td>1.52</td>\n",
       "      <td>240.0</td>\n",
       "    </tr>\n",
       "    <tr>\n",
       "      <th>420447</th>\n",
       "      <td>31.12.2016 23:30:00</td>\n",
       "      <td>999.93</td>\n",
       "      <td>-3.35</td>\n",
       "      <td>269.81</td>\n",
       "      <td>-8.06</td>\n",
       "      <td>69.71</td>\n",
       "      <td>4.77</td>\n",
       "      <td>3.32</td>\n",
       "      <td>1.44</td>\n",
       "      <td>2.07</td>\n",
       "      <td>3.32</td>\n",
       "      <td>1289.44</td>\n",
       "      <td>1.14</td>\n",
       "      <td>1.92</td>\n",
       "      <td>234.3</td>\n",
       "    </tr>\n",
       "    <tr>\n",
       "      <th>420448</th>\n",
       "      <td>31.12.2016 23:40:00</td>\n",
       "      <td>999.82</td>\n",
       "      <td>-3.16</td>\n",
       "      <td>270.01</td>\n",
       "      <td>-8.21</td>\n",
       "      <td>67.91</td>\n",
       "      <td>4.84</td>\n",
       "      <td>3.28</td>\n",
       "      <td>1.55</td>\n",
       "      <td>2.05</td>\n",
       "      <td>3.28</td>\n",
       "      <td>1288.39</td>\n",
       "      <td>1.08</td>\n",
       "      <td>2.00</td>\n",
       "      <td>215.2</td>\n",
       "    </tr>\n",
       "    <tr>\n",
       "      <th>420449</th>\n",
       "      <td>31.12.2016 23:50:00</td>\n",
       "      <td>999.81</td>\n",
       "      <td>-4.23</td>\n",
       "      <td>268.94</td>\n",
       "      <td>-8.53</td>\n",
       "      <td>71.80</td>\n",
       "      <td>4.46</td>\n",
       "      <td>3.20</td>\n",
       "      <td>1.26</td>\n",
       "      <td>1.99</td>\n",
       "      <td>3.20</td>\n",
       "      <td>1293.56</td>\n",
       "      <td>1.49</td>\n",
       "      <td>2.16</td>\n",
       "      <td>225.8</td>\n",
       "    </tr>\n",
       "    <tr>\n",
       "      <th>420450</th>\n",
       "      <td>01.01.2017 00:00:00</td>\n",
       "      <td>999.82</td>\n",
       "      <td>-4.82</td>\n",
       "      <td>268.36</td>\n",
       "      <td>-8.42</td>\n",
       "      <td>75.70</td>\n",
       "      <td>4.27</td>\n",
       "      <td>3.23</td>\n",
       "      <td>1.04</td>\n",
       "      <td>2.01</td>\n",
       "      <td>3.23</td>\n",
       "      <td>1296.38</td>\n",
       "      <td>1.23</td>\n",
       "      <td>1.96</td>\n",
       "      <td>184.9</td>\n",
       "    </tr>\n",
       "  </tbody>\n",
       "</table>\n",
       "<p>420451 rows × 15 columns</p>\n",
       "</div>"
      ],
      "text/plain": [
       "                  Date Time  p (mbar)  T (degC)  Tpot (K)  Tdew (degC)  \\\n",
       "0       01.01.2009 00:10:00    996.52     -8.02    265.40        -8.90   \n",
       "1       01.01.2009 00:20:00    996.57     -8.41    265.01        -9.28   \n",
       "2       01.01.2009 00:30:00    996.53     -8.51    264.91        -9.31   \n",
       "3       01.01.2009 00:40:00    996.51     -8.31    265.12        -9.07   \n",
       "4       01.01.2009 00:50:00    996.51     -8.27    265.15        -9.04   \n",
       "...                     ...       ...       ...       ...          ...   \n",
       "420446  31.12.2016 23:20:00   1000.07     -4.05    269.10        -8.13   \n",
       "420447  31.12.2016 23:30:00    999.93     -3.35    269.81        -8.06   \n",
       "420448  31.12.2016 23:40:00    999.82     -3.16    270.01        -8.21   \n",
       "420449  31.12.2016 23:50:00    999.81     -4.23    268.94        -8.53   \n",
       "420450  01.01.2017 00:00:00    999.82     -4.82    268.36        -8.42   \n",
       "\n",
       "        rh (%)  VPmax (mbar)  VPact (mbar)  VPdef (mbar)  sh (g/kg)  \\\n",
       "0        93.30          3.33          3.11          0.22       1.94   \n",
       "1        93.40          3.23          3.02          0.21       1.89   \n",
       "2        93.90          3.21          3.01          0.20       1.88   \n",
       "3        94.20          3.26          3.07          0.19       1.92   \n",
       "4        94.10          3.27          3.08          0.19       1.92   \n",
       "...        ...           ...           ...           ...        ...   \n",
       "420446   73.10          4.52          3.30          1.22       2.06   \n",
       "420447   69.71          4.77          3.32          1.44       2.07   \n",
       "420448   67.91          4.84          3.28          1.55       2.05   \n",
       "420449   71.80          4.46          3.20          1.26       1.99   \n",
       "420450   75.70          4.27          3.23          1.04       2.01   \n",
       "\n",
       "        H2OC (mmol/mol)  rho (g/m**3)  wv (m/s)  max. wv (m/s)  wd (deg)  \n",
       "0                  3.12       1307.75      1.03           1.75     152.3  \n",
       "1                  3.03       1309.80      0.72           1.50     136.1  \n",
       "2                  3.02       1310.24      0.19           0.63     171.6  \n",
       "3                  3.08       1309.19      0.34           0.50     198.0  \n",
       "4                  3.09       1309.00      0.32           0.63     214.3  \n",
       "...                 ...           ...       ...            ...       ...  \n",
       "420446             3.30       1292.98      0.67           1.52     240.0  \n",
       "420447             3.32       1289.44      1.14           1.92     234.3  \n",
       "420448             3.28       1288.39      1.08           2.00     215.2  \n",
       "420449             3.20       1293.56      1.49           2.16     225.8  \n",
       "420450             3.23       1296.38      1.23           1.96     184.9  \n",
       "\n",
       "[420451 rows x 15 columns]"
      ]
     },
     "execution_count": 9,
     "metadata": {},
     "output_type": "execute_result"
    }
   ],
   "source": [
    "df = pd.read_csv(\"C:/Users/mytzi/Downloads/jena_climate_2009_2016_.csv\")\n",
    "df"
   ]
  },
  {
   "cell_type": "markdown",
   "id": "e8f733c0-665f-4d07-b2da-c0430b4ee214",
   "metadata": {},
   "source": [
    "Imprimimos los encabezados y separamos los datos del encabezado"
   ]
  },
  {
   "cell_type": "code",
   "execution_count": 15,
   "id": "e773018e-58ab-4937-9ddf-2fe7320ea82a",
   "metadata": {
    "tags": []
   },
   "outputs": [
    {
     "name": "stdout",
     "output_type": "stream",
     "text": [
      "['\"Date Time\"', '\"p (mbar)\"', '\"T (degC)\"', '\"Tpot (K)\"', '\"Tdew (degC)\"', '\"rh (%)\"', '\"VPmax (mbar)\"', '\"VPact (mbar)\"', '\"VPdef (mbar)\"', '\"sh (g/kg)\"', '\"H2OC (mmol/mol)\"', '\"rho (g/m**3)\"', '\"wv (m/s)\"', '\"max. wv (m/s)\"', '\"wd (deg)\"']\n",
      "420451\n"
     ]
    }
   ],
   "source": [
    "df= os.path.join(\"C:/Users/mytzi/Downloads/jena_climate_2009_2016_.csv\")\n",
    "with open(df) as df:\n",
    "   data = df.read()\n",
    "\n",
    "lines = data.split(\"\\n\")\n",
    "header = lines[0].split(\",\")\n",
    "lines = lines[1:]\n",
    "print(header)\n",
    "print(len(lines))"
   ]
  },
  {
   "cell_type": "markdown",
   "id": "826f93a0-b051-4e81-a91c-a7125c72d569",
   "metadata": {},
   "source": [
    "Separamos datos de temperatura y los demás"
   ]
  },
  {
   "cell_type": "code",
   "execution_count": 17,
   "id": "137fe71b-aadf-4aab-801b-c8dbfad9bf58",
   "metadata": {
    "tags": []
   },
   "outputs": [],
   "source": [
    "temperature = np.zeros((len(lines),))\n",
    "raw_data = np.zeros((len(lines), len(header) - 1))\n",
    "for i, line in enumerate(lines):\n",
    "  values = [float(x) for x in line.split(\",\")[1:]]\n",
    "  temperature[i] = values[1]\n",
    "  raw_data[i, :] = values[:]"
   ]
  },
  {
   "cell_type": "markdown",
   "id": "2a2b3055-4a51-40b7-b4e9-4beffb5ef399",
   "metadata": {},
   "source": [
    "Graficamos la serie de tiempo de temperaturas"
   ]
  },
  {
   "cell_type": "code",
   "execution_count": 18,
   "id": "8dea745a-bb79-4f78-ac6c-764647d88724",
   "metadata": {
    "tags": []
   },
   "outputs": [
    {
     "data": {
      "text/plain": [
       "[<matplotlib.lines.Line2D at 0x242a9682640>]"
      ]
     },
     "execution_count": 18,
     "metadata": {},
     "output_type": "execute_result"
    },
    {
     "data": {
      "image/png": "[encoded data removed]",
      "text/plain": [
       "<Figure size 640x480 with 1 Axes>"
      ]
     },
     "metadata": {},
     "output_type": "display_data"
    }
   ],
   "source": [
    "from matplotlib import pyplot as plt\n",
    "plt.plot(range(len(temperature)), temperature)"
   ]
  },
  {
   "cell_type": "code",
   "execution_count": 19,
   "id": "a5c5194d-d2da-462d-9878-aa4dbee62f6f",
   "metadata": {
    "tags": []
   },
   "outputs": [
    {
     "data": {
      "text/plain": [
       "[<matplotlib.lines.Line2D at 0x242aab897f0>]"
      ]
     },
     "execution_count": 19,
     "metadata": {},
     "output_type": "execute_result"
    },
    {
     "data": {
      "image/png": "[encoded data removed]",
      "text/plain": [
       "<Figure size 640x480 with 1 Axes>"
      ]
     },
     "metadata": {},
     "output_type": "display_data"
    }
   ],
   "source": [
    "plt.plot(range(1440), temperature[:1440])"
   ]
  },
  {
   "cell_type": "markdown",
   "id": "399ebb7a-f05f-4333-9b88-8442bd930b6d",
   "metadata": {},
   "source": [
    "Establecemos la longitud deseada de las secuencias, en este caso es de 120 (longitud de los datos de temperatura), y las divisiones."
   ]
  },
  {
   "cell_type": "code",
   "execution_count": 57,
   "id": "c959bcac-abde-4d6d-86fb-e98134b532c9",
   "metadata": {
    "tags": []
   },
   "outputs": [],
   "source": [
    "seq_length = 120"
   ]
  },
  {
   "cell_type": "markdown",
   "id": "84a93dcc-9d57-4a85-b56c-92174c719d11",
   "metadata": {},
   "source": [
    "Definimos los tamaños de los conjuntos de entrenamiento (50%), validación (25%) y prueba (25%)."
   ]
  },
  {
   "cell_type": "code",
   "execution_count": 58,
   "id": "1f88be19-9186-4806-8fa7-42e69811ae65",
   "metadata": {
    "tags": []
   },
   "outputs": [],
   "source": [
    "num_spl = len(temperature) - seq_length + 1\n",
    "train_spl = int(0.5 * num_spl)\n",
    "val_spl = int(0.25 * num_spl)\n",
    "test_spl = num_spl - train_spl - val_spl"
   ]
  },
  {
   "cell_type": "markdown",
   "id": "b1f530ba-fc0f-4868-8656-0cae61caa431",
   "metadata": {},
   "source": [
    "**Nota: aquí habia intentado definir el conjunto de secuencias, me marcaba error, por lo cual modifiqué el archivo pero al realizar commit tuve errores y se termino eliminando el commit donde aparecia el error (la version previa), por eso aclaro de como lo solucioné aunque ya no se puede visualizar la parte del error.**"
   ]
  },
  {
   "cell_type": "markdown",
   "id": "0b088436-3957-464a-90eb-fc690423d171",
   "metadata": {},
   "source": [
    "Para solucionar el error que nos arrojó\n",
    "\n",
    "**\"ValueError: `end_index` must be lower than the length of the data. Received: end_index=420332, for data of length 420331\"**\n",
    "\n",
    "definimos bien los índices finales para start_index y end_index."
   ]
  },
  {
   "cell_type": "code",
   "execution_count": 75,
   "id": "774bd581-bb9c-45c8-8aed-0a35d832a129",
   "metadata": {
    "tags": []
   },
   "outputs": [],
   "source": [
    "start_index = 0\n",
    "end_index = len(temperature) - 1\n",
    "end_index_tra = start_index + train_spl\n",
    "end_index_t = min(end_index_t, end_index)\n",
    "end_index_val = end_index_t + val_spl\n",
    "end_index_v=min(end_index_val, end_index)     "
   ]
  },
  {
   "cell_type": "markdown",
   "id": "88940338-b4cb-4c41-8e14-6074ff0ddf72",
   "metadata": {},
   "source": [
    "Generamos un conjunto de secuencias a partir del codigo proporcionado para la tarea"
   ]
  },
  {
   "cell_type": "code",
   "execution_count": 77,
   "id": "d220d591-d4e4-46d3-bec1-39f327669b9c",
   "metadata": {
    "tags": []
   },
   "outputs": [],
   "source": [
    "train_dataset = keras.utils.timeseries_dataset_from_array(\n",
    "    data=temperature,\n",
    "    targets=temperature,\n",
    "    sampling_rate = 1,\n",
    "    sequence_length=seq_length,\n",
    "    batch_size=30,\n",
    "    shuffle=True,\n",
    "    start_index=start_index,\n",
    "    end_index=end_index_t\n",
    ")\n",
    "\n",
    "val_dataset = keras.utils.timeseries_dataset_from_array(\n",
    "    data=temperature,\n",
    "    targets=temperature,\n",
    "    sampling_rate = 1,\n",
    "    sequence_length=seq_length,\n",
    "    batch_size=30,\n",
    "    shuffle=True,\n",
    "    start_index=end_index_t,\n",
    "    end_index=end_index_v,\n",
    ")\n",
    "\n",
    "test_dataset = keras.utils.timeseries_dataset_from_array(\n",
    "    data=temperature,\n",
    "    targets=temperature,\n",
    "    sequence_length=seq_length,\n",
    "    batch_size=30,\n",
    "    shuffle=True,\n",
    "    start_index=end_index_v,\n",
    "    end_index=end_index\n",
    ")\n"
   ]
  },
  {
   "cell_type": "markdown",
   "id": "b8a3dc5c-d186-4074-bd0e-e3b4dba9696b",
   "metadata": {},
   "source": [
    "**2. Construye y entrena una red que estime la temperatura 10 pasos en el futuro. Puedes usar tanto Conv1D o bien LSTM**"
   ]
  },
  {
   "cell_type": "code",
   "execution_count": 78,
   "id": "5fd68107-f129-4ee2-b802-cc1f97dda1ab",
   "metadata": {
    "tags": []
   },
   "outputs": [
    {
     "name": "stderr",
     "output_type": "stream",
     "text": [
      "C:\\Users\\mytzi\\AppData\\Local\\Temp\\ipykernel_8292\\391477422.py:14: UserWarning: color is redundantly defined by the 'color' keyword argument and the fmt string \"bo\" (-> color='b'). The keyword argument will take precedence.\n",
      "  plt.plot(range(seq_length, seq_length + look_ahead),Y[i,:,0],'bo',color='orange')\n"
     ]
    },
    {
     "data": {
      "image/png": "[encoded data removed]",
      "text/plain": [
       "<Figure size 640x480 with 1 Axes>"
      ]
     },
     "metadata": {},
     "output_type": "display_data"
    }
   ],
   "source": [
    "look_ahead = 10\n",
    "\n",
    "def gen_data(size=1000, noise=0.1):# We create 1000 data-points\n",
    "    s = seq_length + look_ahead\n",
    "    d = np.zeros((size, s,1))\n",
    "    for i in range(size): \n",
    "        start = np.random.uniform(0, 2*np.pi) # Random start point\n",
    "        d[i,:,0] = np.sin(start + np.linspace(0, 20*np.pi, s)) * np.sin(start + np.linspace(0, np.pi, s)) + np.random.normal(0,noise,s)\n",
    "    return d[:,0:seq_length], d[:,seq_length:s]\n",
    "\n",
    "X,Y = gen_data()\n",
    "for i in range(1):\n",
    "    plt.plot(range(0, seq_length),X[i,:,0],'b-')\n",
    "    plt.plot(range(seq_length, seq_length + look_ahead),Y[i,:,0],'bo',color='orange')\n",
    "\n",
    "plt.show()\n"
   ]
  },
  {
   "cell_type": "code",
   "execution_count": 80,
   "id": "8c5f8e11-5fb9-4418-9efd-14474fa8d26f",
   "metadata": {
    "tags": []
   },
   "outputs": [
    {
     "name": "stdout",
     "output_type": "stream",
     "text": [
      "Epoch 1/10\n",
      "7002/7002 [==============================] - 223s 31ms/step - loss: 0.1953 - val_loss: 0.0031\n",
      "Epoch 2/10\n",
      "7002/7002 [==============================] - 261s 37ms/step - loss: 0.0238 - val_loss: 0.2381\n",
      "Epoch 3/10\n",
      "7002/7002 [==============================] - 179s 25ms/step - loss: 0.0167 - val_loss: 0.0027\n",
      "Epoch 4/10\n",
      "7002/7002 [==============================] - 148s 21ms/step - loss: 0.0106 - val_loss: 0.0052\n",
      "Epoch 5/10\n",
      "7002/7002 [==============================] - 152s 22ms/step - loss: 0.0097 - val_loss: 0.0032\n",
      "Epoch 6/10\n",
      "7002/7002 [==============================] - 152s 22ms/step - loss: 0.0070 - val_loss: 0.0061\n",
      "Epoch 7/10\n",
      "7002/7002 [==============================] - 143s 20ms/step - loss: 0.0081 - val_loss: 0.0040\n",
      "Epoch 8/10\n",
      "7002/7002 [==============================] - 154s 22ms/step - loss: 0.0043 - val_loss: 0.0031\n",
      "Epoch 9/10\n",
      "7002/7002 [==============================] - 220s 31ms/step - loss: 0.0060 - val_loss: 3.5410e-04\n",
      "Epoch 10/10\n",
      "7002/7002 [==============================] - 191s 27ms/step - loss: 0.0045 - val_loss: 0.0159\n"
     ]
    },
    {
     "data": {
      "text/plain": [
       "<keras.src.callbacks.History at 0x242aab899a0>"
      ]
     },
     "execution_count": 80,
     "metadata": {},
     "output_type": "execute_result"
    }
   ],
   "source": [
    "from tensorflow.keras.layers import Conv1D, Flatten\n",
    "\n",
    "# Crear el modelo Conv1D\n",
    "model_conv1d = Sequential()\n",
    "model_conv1d.add(Conv1D(filters=64, kernel_size=5, activation='relu', input_shape=(seq_length, 1)))\n",
    "model_conv1d.add(Flatten())\n",
    "model_conv1d.add(Dense(1))  # Capa de salida con una sola neurona para predecir la temperatura\n",
    "\n",
    "# Compilar el modelo\n",
    "model_conv1d.compile(optimizer='adam', loss='mean_squared_error')\n",
    "\n",
    "# Entrenar el modelo con el conjunto de datos de entrenamiento\n",
    "model_conv1d.fit(train_dataset, epochs=10, validation_data=val_dataset)\n"
   ]
  },
  {
   "cell_type": "markdown",
   "id": "20ccdbad-00f4-43ff-a9cf-c9708ad96261",
   "metadata": {},
   "source": [
    "Por lo que vemos, es un modelo muy poco, pero muy pocooooo confiable, por lo cual crearé otra red, basandome en el documento LSTMyAliciaEnPaisDeMaravillas.ipynb"
   ]
  },
  {
   "cell_type": "code",
   "execution_count": null,
   "id": "a9255b17-2231-4f16-8d6c-b99ae77e5ada",
   "metadata": {},
   "outputs": [],
   "source": [
    "seq_length = 120 # Longitud de secuencia utilizada para el entrenamiento\n",
    "look_ahead = 10 # El número de puntos de datos que el modelo debe predecir.\n",
    "input_sequences = []\n",
    "output_labels = []\n",
    "\n",
    "for i in range(len(temperature) - seq_length - look_ahead):\n",
    "    input_sequences.append(temperature[i:i + seq_length])\n",
    "    output_labels.append(temperature[i + seq_length + look_ahead])\n",
    "input_sequences = np.array(input_sequences)\n",
    "output_labels = np.array(output_labels)\n",
    "\n",
    "# Dividir los datos para entrenamiento y prueba \n",
    "train_size = int(0.70 * len(input_sequences))\n",
    "train_input = input_sequences[:train_size]\n",
    "train_output = output_labels[:train_size]\n",
    "test_input = input_sequences[train_size:]\n",
    "test_output = output_labels[train_size:]\n",
    "\n",
    "model = Sequential()\n",
    "model.add(layers.LSTM(100, input_shape=(seq_length, 1)))\n",
    "#odel.add(layers.Dropout(0.2))\n",
    "#model.add(layers.Dense(20, activation='relu'))\n",
    "model.add(layers.Dense(1))\n",
    "model.compile(optimizer='adam', loss='mse')\n",
    "\n",
    "model.fit(train_input, train_output, epochs=5, batch_size=30, validation_data=(test_input, test_output))"
   ]
  },
  {
   "cell_type": "code",
   "execution_count": null,
   "id": "951b37a1-db89-4f35-be64-e76c853ecf4e",
   "metadata": {},
   "outputs": [],
   "source": [
    "predicted_values = model.predict(test_input)\n",
    "comparison = list(zip(test_output, predicted_values))\n",
    "for real, predicted in comparison:\n",
    "    print(f\"Valor Real: {real}, Valor Predicho: {predicted}\")"
   ]
  },
  {
   "cell_type": "markdown",
   "id": "5355e8ea-0aca-4744-bf28-3693d8028d9a",
   "metadata": {},
   "source": [
    "Trate de entrenar la red, pero tardaba mucho y se canceló varias veces :( \n",
    "De igual forma tenía muy mala predicción y no pude hacer que mejorara.  \n",
    "**Pero voy a seguir intentando**"
   ]
  },
  {
   "cell_type": "markdown",
   "id": "c957374c-fef4-46a2-bf85-b9f342853a56",
   "metadata": {},
   "source": [
    "**3. Prueba ahora como datos de entrada las demás variables como presión y las demás.**"
   ]
  },
  {
   "cell_type": "markdown",
   "id": "03fc1bf6-de82-40fe-b928-0069176e7b85",
   "metadata": {},
   "source": [
    "Presión "
   ]
  },
  {
   "cell_type": "code",
   "execution_count": null,
   "id": "4f4b0f1a-4860-4e8b-a18a-f97b961f7dac",
   "metadata": {},
   "outputs": [],
   "source": [
    "num_spl = len(preassure) - seq_length + 2\n",
    "train_spl = int(0.5 * num_spl)\n",
    "val_spl = int(0.25 * num_spl)\n",
    "test_spl = num_spl - train_spl - val_spl\n",
    "\n",
    "preassure = np.zeros((len(lines),))\n",
    "raw_data = np.zeros((len(lines), len(header) - 2))\n",
    "for i, line in enumerate(lines):\n",
    "  values = [float(x) for x in line.split(\",\")[2:]]\n",
    "  temperature[i] = values[2]\n",
    "  raw_data[i, :] = values[:]\n",
    "\n",
    "val_dataset = keras.utils.timeseries_dataset_from_array(\n",
    "    data=pressure, \n",
    "    targets=presure,\n",
    "    sampling_rate=sampling_rate,\n",
    "    sequence_length=sequence_length,\n",
    "    shuffle=True,\n",
    "    batch_size=batch_size,\n",
    "    start_index=num_train_samples,\n",
    "    end_index=num_train_samples + num_val_samples)"
   ]
  }
 ],
 "metadata": {
  "kernelspec": {
   "display_name": "Python 3 (ipykernel)",
   "language": "python",
   "name": "python3"
  },
  "language_info": {
   "codemirror_mode": {
    "name": "ipython",
    "version": 3
   },
   "file_extension": ".py",
   "mimetype": "text/x-python",
   "name": "python",
   "nbconvert_exporter": "python",
   "pygments_lexer": "ipython3",
   "version": "3.9.16"
  }
 },
 "nbformat": 4,
 "nbformat_minor": 5
}
